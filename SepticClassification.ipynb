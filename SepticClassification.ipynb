{
 "cells": [
  {
   "cell_type": "code",
   "execution_count": 164,
   "id": "026738ef",
   "metadata": {},
   "outputs": [
    {
     "name": "stdout",
     "output_type": "stream",
     "text": [
      "Requirement already satisfied: keras in /home/user/news/lib/python3.8/site-packages (2.6.0)\n",
      "Requirement already satisfied: nltk in /home/user/news/lib/python3.8/site-packages (3.6.2)\n",
      "Requirement already satisfied: click in /home/user/news/lib/python3.8/site-packages (from nltk) (8.0.1)\n",
      "Requirement already satisfied: joblib in /home/user/news/lib/python3.8/site-packages (from nltk) (1.0.1)\n",
      "Requirement already satisfied: tqdm in /home/user/news/lib/python3.8/site-packages (from nltk) (4.62.1)\n",
      "Requirement already satisfied: regex in /home/user/news/lib/python3.8/site-packages (from nltk) (2021.8.3)\n",
      "Requirement already satisfied: tensorflow in /home/user/news/lib/python3.8/site-packages (2.6.0)\n",
      "Requirement already satisfied: typing-extensions~=3.7.4 in /home/user/news/lib/python3.8/site-packages (from tensorflow) (3.7.4.3)\n",
      "Requirement already satisfied: protobuf>=3.9.2 in /home/user/news/lib/python3.8/site-packages (from tensorflow) (3.17.3)\n",
      "Requirement already satisfied: h5py~=3.1.0 in /home/user/news/lib/python3.8/site-packages (from tensorflow) (3.1.0)\n",
      "Requirement already satisfied: tensorboard~=2.6 in /home/user/news/lib/python3.8/site-packages (from tensorflow) (2.6.0)\n",
      "Requirement already satisfied: wheel~=0.35 in /home/user/news/lib/python3.8/site-packages (from tensorflow) (0.37.0)\n",
      "Requirement already satisfied: grpcio<2.0,>=1.37.0 in /home/user/news/lib/python3.8/site-packages (from tensorflow) (1.39.0)\n",
      "Requirement already satisfied: termcolor~=1.1.0 in /home/user/news/lib/python3.8/site-packages (from tensorflow) (1.1.0)\n",
      "Requirement already satisfied: opt-einsum~=3.3.0 in /home/user/news/lib/python3.8/site-packages (from tensorflow) (3.3.0)\n",
      "Requirement already satisfied: gast==0.4.0 in /home/user/news/lib/python3.8/site-packages (from tensorflow) (0.4.0)\n",
      "Requirement already satisfied: six~=1.15.0 in /home/user/news/lib/python3.8/site-packages (from tensorflow) (1.15.0)\n",
      "Requirement already satisfied: absl-py~=0.10 in /home/user/news/lib/python3.8/site-packages (from tensorflow) (0.13.0)\n",
      "Requirement already satisfied: keras~=2.6 in /home/user/news/lib/python3.8/site-packages (from tensorflow) (2.6.0)\n",
      "Requirement already satisfied: tensorflow-estimator~=2.6 in /home/user/news/lib/python3.8/site-packages (from tensorflow) (2.6.0)\n",
      "Requirement already satisfied: flatbuffers~=1.12.0 in /home/user/news/lib/python3.8/site-packages (from tensorflow) (1.12)\n",
      "Requirement already satisfied: clang~=5.0 in /home/user/news/lib/python3.8/site-packages (from tensorflow) (5.0)\n",
      "Requirement already satisfied: wrapt~=1.12.1 in /home/user/news/lib/python3.8/site-packages (from tensorflow) (1.12.1)\n",
      "Requirement already satisfied: keras-preprocessing~=1.1.2 in /home/user/news/lib/python3.8/site-packages (from tensorflow) (1.1.2)\n",
      "Requirement already satisfied: astunparse~=1.6.3 in /home/user/news/lib/python3.8/site-packages (from tensorflow) (1.6.3)\n",
      "Requirement already satisfied: google-pasta~=0.2 in /home/user/news/lib/python3.8/site-packages (from tensorflow) (0.2.0)\n",
      "Requirement already satisfied: numpy~=1.19.2 in /home/user/news/lib/python3.8/site-packages (from tensorflow) (1.19.5)\n",
      "Requirement already satisfied: tensorboard-data-server<0.7.0,>=0.6.0 in /home/user/news/lib/python3.8/site-packages (from tensorboard~=2.6->tensorflow) (0.6.1)\n",
      "Requirement already satisfied: google-auth<2,>=1.6.3 in /home/user/news/lib/python3.8/site-packages (from tensorboard~=2.6->tensorflow) (1.34.0)\n",
      "Requirement already satisfied: setuptools>=41.0.0 in /home/user/news/lib/python3.8/site-packages (from tensorboard~=2.6->tensorflow) (44.0.0)\n",
      "Requirement already satisfied: google-auth-oauthlib<0.5,>=0.4.1 in /home/user/news/lib/python3.8/site-packages (from tensorboard~=2.6->tensorflow) (0.4.5)\n",
      "Requirement already satisfied: requests<3,>=2.21.0 in /home/user/news/lib/python3.8/site-packages (from tensorboard~=2.6->tensorflow) (2.26.0)\n",
      "Requirement already satisfied: markdown>=2.6.8 in /home/user/news/lib/python3.8/site-packages (from tensorboard~=2.6->tensorflow) (3.3.4)\n",
      "Requirement already satisfied: tensorboard-plugin-wit>=1.6.0 in /home/user/news/lib/python3.8/site-packages (from tensorboard~=2.6->tensorflow) (1.8.0)\n",
      "Requirement already satisfied: werkzeug>=0.11.15 in /home/user/news/lib/python3.8/site-packages (from tensorboard~=2.6->tensorflow) (2.0.1)\n",
      "Requirement already satisfied: rsa<5,>=3.1.4; python_version >= \"3.6\" in /home/user/news/lib/python3.8/site-packages (from google-auth<2,>=1.6.3->tensorboard~=2.6->tensorflow) (4.7.2)\n",
      "Requirement already satisfied: cachetools<5.0,>=2.0.0 in /home/user/news/lib/python3.8/site-packages (from google-auth<2,>=1.6.3->tensorboard~=2.6->tensorflow) (4.2.2)\n",
      "Requirement already satisfied: pyasn1-modules>=0.2.1 in /home/user/news/lib/python3.8/site-packages (from google-auth<2,>=1.6.3->tensorboard~=2.6->tensorflow) (0.2.8)\n",
      "Requirement already satisfied: requests-oauthlib>=0.7.0 in /home/user/news/lib/python3.8/site-packages (from google-auth-oauthlib<0.5,>=0.4.1->tensorboard~=2.6->tensorflow) (1.3.0)\n",
      "Requirement already satisfied: certifi>=2017.4.17 in /home/user/news/lib/python3.8/site-packages (from requests<3,>=2.21.0->tensorboard~=2.6->tensorflow) (2021.5.30)\n",
      "Requirement already satisfied: idna<4,>=2.5; python_version >= \"3\" in /home/user/news/lib/python3.8/site-packages (from requests<3,>=2.21.0->tensorboard~=2.6->tensorflow) (3.2)\n",
      "Requirement already satisfied: urllib3<1.27,>=1.21.1 in /home/user/news/lib/python3.8/site-packages (from requests<3,>=2.21.0->tensorboard~=2.6->tensorflow) (1.26.6)\n",
      "Requirement already satisfied: charset-normalizer~=2.0.0; python_version >= \"3\" in /home/user/news/lib/python3.8/site-packages (from requests<3,>=2.21.0->tensorboard~=2.6->tensorflow) (2.0.4)\n",
      "Requirement already satisfied: pyasn1>=0.1.3 in /home/user/news/lib/python3.8/site-packages (from rsa<5,>=3.1.4; python_version >= \"3.6\"->google-auth<2,>=1.6.3->tensorboard~=2.6->tensorflow) (0.4.8)\n",
      "Requirement already satisfied: oauthlib>=3.0.0 in /home/user/news/lib/python3.8/site-packages (from requests-oauthlib>=0.7.0->google-auth-oauthlib<0.5,>=0.4.1->tensorboard~=2.6->tensorflow) (3.1.1)\n",
      "Requirement already satisfied: seaborn in /home/user/news/lib/python3.8/site-packages (0.11.1)\n",
      "Requirement already satisfied: scipy>=1.0 in /home/user/news/lib/python3.8/site-packages (from seaborn) (1.7.1)\n",
      "Requirement already satisfied: matplotlib>=2.2 in /home/user/news/lib/python3.8/site-packages (from seaborn) (3.4.3)\n",
      "Requirement already satisfied: numpy>=1.15 in /home/user/news/lib/python3.8/site-packages (from seaborn) (1.19.5)\n",
      "Requirement already satisfied: pandas>=0.23 in /home/user/news/lib/python3.8/site-packages (from seaborn) (1.3.1)\n",
      "Requirement already satisfied: kiwisolver>=1.0.1 in /home/user/news/lib/python3.8/site-packages (from matplotlib>=2.2->seaborn) (1.3.1)\n",
      "Requirement already satisfied: cycler>=0.10 in /home/user/news/lib/python3.8/site-packages (from matplotlib>=2.2->seaborn) (0.10.0)\n",
      "Requirement already satisfied: pyparsing>=2.2.1 in /home/user/news/lib/python3.8/site-packages (from matplotlib>=2.2->seaborn) (2.4.7)\n",
      "Requirement already satisfied: pillow>=6.2.0 in /home/user/news/lib/python3.8/site-packages (from matplotlib>=2.2->seaborn) (8.3.1)\n",
      "Requirement already satisfied: python-dateutil>=2.7 in /home/user/news/lib/python3.8/site-packages (from matplotlib>=2.2->seaborn) (2.8.2)\n",
      "Requirement already satisfied: pytz>=2017.3 in /home/user/news/lib/python3.8/site-packages (from pandas>=0.23->seaborn) (2021.1)\n",
      "Requirement already satisfied: six in /home/user/news/lib/python3.8/site-packages (from cycler>=0.10->matplotlib>=2.2->seaborn) (1.15.0)\n",
      "Grpah-2300-100\n"
     ]
    },
    {
     "name": "stderr",
     "output_type": "stream",
     "text": [
      "2021-08-15 13:49:38.921718: I tensorflow/core/profiler/lib/profiler_session.cc:131] Profiler session initializing.\n",
      "2021-08-15 13:49:38.934659: I tensorflow/core/profiler/lib/profiler_session.cc:146] Profiler session started.\n",
      "2021-08-15 13:49:39.000651: I tensorflow/core/profiler/lib/profiler_session.cc:164] Profiler session tear down.\n"
     ]
    }
   ],
   "source": [
    "!pip install keras\n",
    "!pip install nltk\n",
    "!pip install tensorflow\n",
    "!pip install seaborn\n",
    "import numpy as np\n",
    "import pandas as pd\n",
    "from sklearn.model_selection import train_test_split\n",
    "from keras.models import Sequential\n",
    "from keras.layers import Dense,Conv1D,MaxPooling1D , Conv2D,MaxPooling2D\n",
    "from keras.layers import LSTM,Dropout\n",
    "from keras.layers.embeddings import Embedding\n",
    "from keras.callbacks import ModelCheckpoint\n",
    "from keras.preprocessing.text import Tokenizer\n",
    "from keras.preprocessing.sequence import pad_sequences\n",
    "import keras\n",
    "import warnings\n",
    "warnings.filterwarnings('ignore')\n",
    "from tensorflow.keras.callbacks import TensorBoard\n",
    "import nltk \n",
    "\n",
    "from nltk.tokenize import sent_tokenize, word_tokenize\n",
    "import time\n",
    "from sklearn.feature_extraction.text import CountVectorizer\n",
    "from sklearn.metrics import accuracy_score\n",
    "Name = \"Grpah-2300-100\"\n",
    "\n",
    "tensorboard = TensorBoard(log_dir='Logs2/{}'.format(Name))\n",
    "print(Name)"
   ]
  },
  {
   "cell_type": "code",
   "execution_count": 165,
   "id": "0973eead",
   "metadata": {},
   "outputs": [
    {
     "name": "stdout",
     "output_type": "stream",
     "text": [
      "0       1-Septic\n",
      "1       1-Septic\n",
      "2         0-Pure\n",
      "3         0-Pure\n",
      "4       1-Septic\n",
      "          ...   \n",
      "1795      0-Pure\n",
      "1796      0-Pure\n",
      "1797      0-Pure\n",
      "1798      0-Pure\n",
      "1799      0-Pure\n",
      "Name: 1, Length: 1800, dtype: object\n"
     ]
    },
    {
     "data": {
      "text/html": [
       "<div>\n",
       "<style scoped>\n",
       "    .dataframe tbody tr th:only-of-type {\n",
       "        vertical-align: middle;\n",
       "    }\n",
       "\n",
       "    .dataframe tbody tr th {\n",
       "        vertical-align: top;\n",
       "    }\n",
       "\n",
       "    .dataframe thead th {\n",
       "        text-align: right;\n",
       "    }\n",
       "</style>\n",
       "<table border=\"1\" class=\"dataframe\">\n",
       "  <thead>\n",
       "    <tr style=\"text-align: right;\">\n",
       "      <th></th>\n",
       "      <th>0</th>\n",
       "      <th>1</th>\n",
       "    </tr>\n",
       "  </thead>\n",
       "  <tbody>\n",
       "    <tr>\n",
       "      <th>0</th>\n",
       "      <td>While the Congress seems to be in revival mode...</td>\n",
       "      <td>1</td>\n",
       "    </tr>\n",
       "    <tr>\n",
       "      <th>1</th>\n",
       "      <td>In Congress, it’s a problem of plenty with too...</td>\n",
       "      <td>1</td>\n",
       "    </tr>\n",
       "    <tr>\n",
       "      <th>2</th>\n",
       "      <td>Though the BJP leadership has been reportedly ...</td>\n",
       "      <td>0</td>\n",
       "    </tr>\n",
       "    <tr>\n",
       "      <th>3</th>\n",
       "      <td>The political predicament also appears to be t...</td>\n",
       "      <td>0</td>\n",
       "    </tr>\n",
       "    <tr>\n",
       "      <th>4</th>\n",
       "      <td>The party leadership, mainly PM Narendra Modi ...</td>\n",
       "      <td>1</td>\n",
       "    </tr>\n",
       "    <tr>\n",
       "      <th>5</th>\n",
       "      <td>The CM had planned to meet the duo when he com...</td>\n",
       "      <td>0</td>\n",
       "    </tr>\n",
       "    <tr>\n",
       "      <th>6</th>\n",
       "      <td>He’s now scheduled to visit New Delhi on Thurs...</td>\n",
       "      <td>0</td>\n",
       "    </tr>\n",
       "    <tr>\n",
       "      <th>7</th>\n",
       "      <td>Speculations are rife in party circles that he...</td>\n",
       "      <td>1</td>\n",
       "    </tr>\n",
       "    <tr>\n",
       "      <th>8</th>\n",
       "      <td>“If he fails to do so, he would face open rebe...</td>\n",
       "      <td>0</td>\n",
       "    </tr>\n",
       "    <tr>\n",
       "      <th>9</th>\n",
       "      <td>“Further delay is likely. Despite threats from...</td>\n",
       "      <td>0</td>\n",
       "    </tr>\n",
       "    <tr>\n",
       "      <th>10</th>\n",
       "      <td>Not all is well in the Congress too. Following...</td>\n",
       "      <td>1</td>\n",
       "    </tr>\n",
       "    <tr>\n",
       "      <th>11</th>\n",
       "      <td>Senior Congress functionaries are particularly...</td>\n",
       "      <td>1</td>\n",
       "    </tr>\n",
       "    <tr>\n",
       "      <th>12</th>\n",
       "      <td>“The party should make a concerted effort to i...</td>\n",
       "      <td>0</td>\n",
       "    </tr>\n",
       "    <tr>\n",
       "      <th>13</th>\n",
       "      <td>Taking serious note of allegations pertaining ...</td>\n",
       "      <td>0</td>\n",
       "    </tr>\n",
       "    <tr>\n",
       "      <th>14</th>\n",
       "      <td>Panchayat raj and mining minister Pedireddy Ra...</td>\n",
       "      <td>0</td>\n",
       "    </tr>\n",
       "    <tr>\n",
       "      <th>15</th>\n",
       "      <td>Sources said the party legislator reportedly s...</td>\n",
       "      <td>0</td>\n",
       "    </tr>\n",
       "    <tr>\n",
       "      <th>16</th>\n",
       "      <td>The legislator is his report said that large q...</td>\n",
       "      <td>0</td>\n",
       "    </tr>\n",
       "    <tr>\n",
       "      <th>17</th>\n",
       "      <td>The legislator claimed that the gravel was ext...</td>\n",
       "      <td>0</td>\n",
       "    </tr>\n",
       "    <tr>\n",
       "      <th>18</th>\n",
       "      <td>“The Mandal Parishad Development Officers (MPD...</td>\n",
       "      <td>0</td>\n",
       "    </tr>\n",
       "    <tr>\n",
       "      <th>19</th>\n",
       "      <td>He submitted also certain documents to substan...</td>\n",
       "      <td>0</td>\n",
       "    </tr>\n",
       "  </tbody>\n",
       "</table>\n",
       "</div>"
      ],
      "text/plain": [
       "                                                    0  1\n",
       "0   While the Congress seems to be in revival mode...  1\n",
       "1   In Congress, it’s a problem of plenty with too...  1\n",
       "2   Though the BJP leadership has been reportedly ...  0\n",
       "3   The political predicament also appears to be t...  0\n",
       "4   The party leadership, mainly PM Narendra Modi ...  1\n",
       "5   The CM had planned to meet the duo when he com...  0\n",
       "6   He’s now scheduled to visit New Delhi on Thurs...  0\n",
       "7   Speculations are rife in party circles that he...  1\n",
       "8   “If he fails to do so, he would face open rebe...  0\n",
       "9   “Further delay is likely. Despite threats from...  0\n",
       "10  Not all is well in the Congress too. Following...  1\n",
       "11  Senior Congress functionaries are particularly...  1\n",
       "12  “The party should make a concerted effort to i...  0\n",
       "13  Taking serious note of allegations pertaining ...  0\n",
       "14  Panchayat raj and mining minister Pedireddy Ra...  0\n",
       "15  Sources said the party legislator reportedly s...  0\n",
       "16  The legislator is his report said that large q...  0\n",
       "17  The legislator claimed that the gravel was ext...  0\n",
       "18  “The Mandal Parishad Development Officers (MPD...  0\n",
       "19  He submitted also certain documents to substan...  0"
      ]
     },
     "execution_count": 165,
     "metadata": {},
     "output_type": "execute_result"
    }
   ],
   "source": [
    "news_data = pd.read_csv(\"News_Dataset.csv\", header=None, skipinitialspace=True ,skiprows=1, encoding='utf-8') \n",
    "# print a summary of the data in news_data\n",
    "print(news_data[1])\n",
    "news_data[1] = news_data[1].replace(['1-Septic', '0-Pure'], [1, 0])\n",
    "news_data[0] = news_data[0].replace('\\n', '', regex=True).str.strip()\n",
    "news_data.head(20)\n"
   ]
  },
  {
   "cell_type": "code",
   "execution_count": 166,
   "id": "b513f240",
   "metadata": {},
   "outputs": [
    {
     "name": "stdout",
     "output_type": "stream",
     "text": [
      "<class 'pandas.core.series.Series'>\n"
     ]
    }
   ],
   "source": [
    "labels=news_data[1]\n",
    "labels.head()     \n",
    "print(type(labels))"
   ]
  },
  {
   "cell_type": "code",
   "execution_count": 167,
   "id": "2500c406",
   "metadata": {},
   "outputs": [
    {
     "data": {
      "text/plain": [
       "0    1431\n",
       "1     369\n",
       "Name: 1, dtype: int64"
      ]
     },
     "execution_count": 167,
     "metadata": {},
     "output_type": "execute_result"
    }
   ],
   "source": [
    "news_data[1].value_counts()"
   ]
  },
  {
   "cell_type": "code",
   "execution_count": 168,
   "id": "2d042a44",
   "metadata": {},
   "outputs": [
    {
     "name": "stdout",
     "output_type": "stream",
     "text": [
      "<class 'pandas.core.series.Series'>\n",
      "(1710,) (1710,)\n"
     ]
    }
   ],
   "source": [
    "X = news_data[0]\n",
    "Y=news_data[1]\n",
    "x_train,x_test,y_train,y_test=train_test_split(X, Y, test_size=0.05, random_state=7)\n",
    "print(type(x_test))\n",
    "print(x_train.shape , y_train.shape)"
   ]
  },
  {
   "cell_type": "code",
   "execution_count": 169,
   "id": "a4e396ca",
   "metadata": {},
   "outputs": [
    {
     "name": "stdout",
     "output_type": "stream",
     "text": [
      "<class 'numpy.ndarray'>\n"
     ]
    }
   ],
   "source": [
    "# tokenizer = Tokenizer(num_words=None) #adding this parameter can  responsible for setting the size of the vocabulary i.e the most common num_words\n",
    "# tokenizer.fit_on_texts(x_train)\n",
    "\n",
    "# print(x_train)\n",
    "\n",
    "\n",
    "\n",
    "\n",
    "\n",
    "from sklearn.feature_extraction.text import TfidfVectorizer\n",
    "#DataFlair - Initialize a TfidfVectorizer\n",
    "tfidf_vectorizer=TfidfVectorizer(stop_words='english', max_df=0.7)\n",
    "\n",
    "#DataFlair - Fit and transform train set, transform test set\n",
    "x_train=tfidf_vectorizer.fit_transform(x_train) \n",
    "x_test=tfidf_vectorizer.transform(x_test)\n",
    "\n",
    "x_train=x_train.toarray()\n",
    "x_test=x_test.toarray()\n",
    "print(type(x_train))\n"
   ]
  },
  {
   "cell_type": "code",
   "execution_count": 170,
   "id": "c68eb5b8",
   "metadata": {},
   "outputs": [
    {
     "name": "stdout",
     "output_type": "stream",
     "text": [
      "6927\n"
     ]
    }
   ],
   "source": [
    "vocab_size = len(tfidf_vectorizer.vocabulary_)  \n",
    "print(vocab_size)\n",
    "\n",
    "# data = []\n",
    "# punc = '.'\n",
    "# for i in x_train:\n",
    "#     i = i[:-1]\n",
    "#     token = word_tokenize(i)\n",
    "#     if punc in token:\n",
    "#         for index ,val in enumerate(token):\n",
    "#             if punc == val:\n",
    "#                 token.pop(index) \n",
    "# #     x_train = tokenizer.texts_to_sequences(token)           \n",
    "#     data.append(token)\n",
    "\n",
    "# x_train = tokenizer.texts_to_sequences(data) \n",
    "# x_test = tokenizer.texts_to_sequences(x_test)"
   ]
  },
  {
   "cell_type": "code",
   "execution_count": 79,
   "id": "f86d66c9",
   "metadata": {},
   "outputs": [],
   "source": [
    "# maxlen = 100\n",
    "# x_train = pad_sequences(x_train, padding='post', maxlen=maxlen)\n",
    "# x_test = pad_sequences(x_test, padding='post', maxlen=maxlen)\n",
    "# print(x_train)\n",
    "# news_data.info()"
   ]
  },
  {
   "cell_type": "code",
   "execution_count": 171,
   "id": "2e6bc92d",
   "metadata": {},
   "outputs": [
    {
     "name": "stdout",
     "output_type": "stream",
     "text": [
      "(1710, 6927) 6927\n",
      "<class 'numpy.ndarray'>\n"
     ]
    }
   ],
   "source": [
    "y_train = np.array(y_train)\n",
    "y_test = np.array(y_test)\n",
    "print(x_train.shape , vocab_size)\n",
    "print(type(y_test))\n",
    "y_train = y_train.astype('float64')\n",
    "y_test = y_test.astype('float64')"
   ]
  },
  {
   "cell_type": "code",
   "execution_count": 211,
   "id": "089b997a",
   "metadata": {},
   "outputs": [
    {
     "name": "stdout",
     "output_type": "stream",
     "text": [
      "Epoch 1/10\n",
      "WARNING:tensorflow:Gradients do not exist for variables ['embedding_30/embeddings:0', 'conv1d_31/kernel:0', 'conv1d_31/bias:0', 'batch_normalization_24/gamma:0', 'batch_normalization_24/beta:0'] when minimizing the loss.\n",
      "WARNING:tensorflow:Gradients do not exist for variables ['embedding_30/embeddings:0', 'conv1d_31/kernel:0', 'conv1d_31/bias:0', 'batch_normalization_24/gamma:0', 'batch_normalization_24/beta:0'] when minimizing the loss.\n",
      "  1/154 [..............................] - ETA: 3:07 - loss: 0.6931 - accuracy: 0.7000"
     ]
    },
    {
     "name": "stderr",
     "output_type": "stream",
     "text": [
      "2021-08-15 15:50:47.311714: I tensorflow/core/profiler/lib/profiler_session.cc:131] Profiler session initializing.\n",
      "2021-08-15 15:50:47.311754: I tensorflow/core/profiler/lib/profiler_session.cc:146] Profiler session started.\n"
     ]
    },
    {
     "name": "stdout",
     "output_type": "stream",
     "text": [
      "\b\b\b\b\b\b\b\b\b\b\b\b\b\b\b\b\b\b\b\b\b\b\b\b\b\b\b\b\b\b\b\b\b\b\b\b\b\b\b\b\b\b\b\b\b\b\b\b\b\b\b\b\b\b\b\b\b\b\b\b\b\b\b\b\b\b\b\b\b\b\b\b\b\b\b\b\b\b\b\b\b\b\b\b\b\b\r",
      "  2/154 [..............................] - ETA: 46s - loss: 0.6928 - accuracy: 0.7000 "
     ]
    },
    {
     "name": "stderr",
     "output_type": "stream",
     "text": [
      "2021-08-15 15:50:47.690404: I tensorflow/core/profiler/lib/profiler_session.cc:66] Profiler session collecting data.\n",
      "2021-08-15 15:50:47.693061: I tensorflow/core/profiler/lib/profiler_session.cc:164] Profiler session tear down.\n",
      "2021-08-15 15:50:47.700137: I tensorflow/core/profiler/rpc/client/save_profile.cc:136] Creating directory: Logs2/Grpah-2300-100/train/plugins/profile/2021_08_15_15_50_47\n",
      "\n",
      "2021-08-15 15:50:47.706256: I tensorflow/core/profiler/rpc/client/save_profile.cc:142] Dumped gzipped tool data for trace.json.gz to Logs2/Grpah-2300-100/train/plugins/profile/2021_08_15_15_50_47/swapnil.trace.json.gz\n",
      "2021-08-15 15:50:47.711891: I tensorflow/core/profiler/rpc/client/save_profile.cc:136] Creating directory: Logs2/Grpah-2300-100/train/plugins/profile/2021_08_15_15_50_47\n",
      "\n",
      "2021-08-15 15:50:47.712235: I tensorflow/core/profiler/rpc/client/save_profile.cc:142] Dumped gzipped tool data for memory_profile.json.gz to Logs2/Grpah-2300-100/train/plugins/profile/2021_08_15_15_50_47/swapnil.memory_profile.json.gz\n",
      "2021-08-15 15:50:47.740447: I tensorflow/core/profiler/rpc/client/capture_profile.cc:251] Creating directory: Logs2/Grpah-2300-100/train/plugins/profile/2021_08_15_15_50_47\n",
      "Dumped tool data for xplane.pb to Logs2/Grpah-2300-100/train/plugins/profile/2021_08_15_15_50_47/swapnil.xplane.pb\n",
      "Dumped tool data for overview_page.pb to Logs2/Grpah-2300-100/train/plugins/profile/2021_08_15_15_50_47/swapnil.overview_page.pb\n",
      "Dumped tool data for input_pipeline.pb to Logs2/Grpah-2300-100/train/plugins/profile/2021_08_15_15_50_47/swapnil.input_pipeline.pb\n",
      "Dumped tool data for tensorflow_stats.pb to Logs2/Grpah-2300-100/train/plugins/profile/2021_08_15_15_50_47/swapnil.tensorflow_stats.pb\n",
      "Dumped tool data for kernel_stats.pb to Logs2/Grpah-2300-100/train/plugins/profile/2021_08_15_15_50_47/swapnil.kernel_stats.pb\n",
      "\n"
     ]
    },
    {
     "name": "stdout",
     "output_type": "stream",
     "text": [
      "154/154 [==============================] - 30s 187ms/step - loss: 0.6043 - accuracy: 0.7940 - val_loss: 0.5681 - val_accuracy: 0.7953\n",
      "Epoch 2/10\n",
      "154/154 [==============================] - 26s 167ms/step - loss: 0.5130 - accuracy: 0.7940 - val_loss: 0.5500 - val_accuracy: 0.7953\n",
      "Epoch 3/10\n",
      "154/154 [==============================] - 26s 167ms/step - loss: 0.5129 - accuracy: 0.7947 - val_loss: 0.5631 - val_accuracy: 0.7953\n",
      "Epoch 4/10\n",
      "154/154 [==============================] - 26s 167ms/step - loss: 0.5121 - accuracy: 0.7940 - val_loss: 0.6571 - val_accuracy: 0.7953\n",
      "Epoch 5/10\n",
      "154/154 [==============================] - 26s 167ms/step - loss: 0.5137 - accuracy: 0.7940 - val_loss: 0.6036 - val_accuracy: 0.7953\n",
      "Epoch 6/10\n",
      "154/154 [==============================] - 26s 166ms/step - loss: 0.5134 - accuracy: 0.7940 - val_loss: 1.6665 - val_accuracy: 0.7953\n",
      "Epoch 7/10\n",
      "154/154 [==============================] - 26s 171ms/step - loss: 0.5138 - accuracy: 0.7947 - val_loss: 1.1181 - val_accuracy: 0.2047\n",
      "Epoch 8/10\n",
      "154/154 [==============================] - 28s 179ms/step - loss: 0.5134 - accuracy: 0.7940 - val_loss: 0.7721 - val_accuracy: 0.2047\n",
      "Epoch 9/10\n",
      "154/154 [==============================] - 28s 182ms/step - loss: 0.5149 - accuracy: 0.7940 - val_loss: 0.5265 - val_accuracy: 0.7953\n",
      "Epoch 10/10\n",
      "154/154 [==============================] - 28s 181ms/step - loss: 0.5108 - accuracy: 0.7940 - val_loss: 0.5745 - val_accuracy: 0.7953\n"
     ]
    },
    {
     "data": {
      "text/plain": [
       "<keras.callbacks.History at 0x7f264447f6a0>"
      ]
     },
     "execution_count": 211,
     "metadata": {},
     "output_type": "execute_result"
    }
   ],
   "source": [
    "from keras import layers\n",
    "from tensorflow.keras.layers import BatchNormalization\n",
    "from tensorflow.keras.layers import Dropout\n",
    "def add_conv_block(model):\n",
    "    model.add(layers.Embedding(vocab_size, 500, input_length=vocab_size))\n",
    "    model.add(layers.Conv1D(16, 5, activation='relu'))\n",
    "    model.add(BatchNormalization())\n",
    "    model.add(layers.GlobalMaxPooling1D())\n",
    "    model.add(Dropout(0.5))\n",
    "    return model\n",
    "model = Sequential()\n",
    "model=add_conv_block(model)   \n",
    "model=add_conv_block(model)\n",
    "\n",
    "model.add(layers.Dense(10, activation='relu'))\n",
    "#model.add(layers.Dense(5, activation='relu'))\n",
    "model.add(layers.Dense(1, activation='sigmoid'))\n",
    "model.compile(optimizer='adam',\n",
    "              loss='binary_crossentropy',\n",
    "              metrics=['accuracy'])\n",
    "X=np.array(x_train)\n",
    "Y=np.array(y_train)\n",
    "model.fit(X, Y,epochs=10,batch_size=10 , validation_split=0.1 , callbacks= [tensorboard])"
   ]
  },
  {
   "cell_type": "code",
   "execution_count": 160,
   "id": "2f09432f",
   "metadata": {},
   "outputs": [
    {
     "name": "stdout",
     "output_type": "stream",
     "text": [
      "Accuracy: 76.94%\n"
     ]
    }
   ],
   "source": [
    "# from sklearn.linear_model import PassiveAggressiveClassifier\n",
    "# #DataFlair - Initialize a PassiveAggressiveClassifier\n",
    "# pac=PassiveAggressiveClassifier(max_iter=50)\n",
    "# pac.fit(x_train,y_train)\n",
    "\n",
    "# #DataFlair - Predict on the test set and calculate accuracy\n",
    "# y_pred=pac.predict(x_test)\n",
    "# score=accuracy_score(y_test,y_pred)\n",
    "# print(f'Accuracy: {round(score*100,2)}%')"
   ]
  },
  {
   "cell_type": "code",
   "execution_count": 203,
   "id": "68c6d601",
   "metadata": {},
   "outputs": [
    {
     "name": "stdout",
     "output_type": "stream",
     "text": [
      "3/3 [==============================] - 36s 5s/step - loss: 0.5168 - accuracy: 0.8000\n"
     ]
    }
   ],
   "source": [
    "acc , y = model.evaluate(x_test , y_test)"
   ]
  },
  {
   "cell_type": "code",
   "execution_count": 175,
   "id": "55bac14b",
   "metadata": {},
   "outputs": [
    {
     "name": "stdout",
     "output_type": "stream",
     "text": [
      "[0. 0. 0. 0. 0. 1. 0. 0. 1. 1. 0. 0. 0. 0. 1. 1. 0. 0. 1. 0. 0. 0. 0. 0.\n",
      " 0. 0. 0. 0. 0. 0. 0. 0. 0. 0. 0. 0. 0. 0. 1. 0. 0. 1. 0. 0. 1. 0. 0. 0.\n",
      " 0. 0. 0. 0. 0. 0. 0. 1. 0. 0. 0. 1. 0. 1. 1. 0. 0. 0. 0. 0. 0. 1. 1. 0.\n",
      " 0. 1. 1. 0. 0. 0. 0. 0. 0. 0. 0. 1. 0. 0. 0. 0. 0. 0.]\n"
     ]
    }
   ],
   "source": [
    "print(y_test)"
   ]
  },
  {
   "cell_type": "code",
   "execution_count": 16,
   "id": "c91297a1",
   "metadata": {},
   "outputs": [
    {
     "name": "stdout",
     "output_type": "stream",
     "text": [
      "1/1 [==============================] - 0s 106ms/step - loss: 1.3386 - accuracy: 0.5000\n",
      "0\n",
      "0\n"
     ]
    }
   ],
   "source": [
    "def mapper(a):\n",
    "    a = tokenizer.texts_to_sequences(a)\n",
    "    return pad_sequences(a, padding='post', maxlen=maxlen)\n",
    "\n",
    "\n",
    "x_eval = mapper(['he said, \"the world goes round and round and round\"',\n",
    "        'Even Bangladesh leader Khaleda Zia has said the terrorists are being trained in India and sent to Bangladesh to create disturbance'])\n",
    "\n",
    "y_eval = np.array([0, 1])\n",
    "model.evaluate(x_eval, y_eval)\n",
    "\n",
    "for i in model.predict(x_eval):\n",
    "    print(round(i[0]))"
   ]
  },
  {
   "cell_type": "code",
   "execution_count": 190,
   "id": "564a230d",
   "metadata": {},
   "outputs": [],
   "source": [
    "y_pred = model.predict(x_test)\n",
    "y_pred = [round(i[0]) for i in y_pred]"
   ]
  },
  {
   "cell_type": "code",
   "execution_count": 191,
   "id": "07b9b7e4",
   "metadata": {},
   "outputs": [
    {
     "name": "stdout",
     "output_type": "stream",
     "text": [
      "[[72  0]\n",
      " [18  0]]\n",
      "Accuracy: 80.0%\n"
     ]
    }
   ],
   "source": [
    "from sklearn.metrics import confusion_matrix\n",
    "y = confusion_matrix(y_test, y_pred)\n",
    "print(y)\n",
    "score=accuracy_score(y_test,y_pred)\n",
    "print(f'Accuracy: {round(score*100,2)}%')"
   ]
  },
  {
   "cell_type": "code",
   "execution_count": 192,
   "id": "88d80003",
   "metadata": {},
   "outputs": [
    {
     "data": {
      "text/plain": [
       "<AxesSubplot:>"
      ]
     },
     "execution_count": 192,
     "metadata": {},
     "output_type": "execute_result"
    },
    {
     "data": {
      "image/png": "[encoded data removed]",
      "text/plain": [
       "<Figure size 432x288 with 2 Axes>"
      ]
     },
     "metadata": {
      "needs_background": "light"
     },
     "output_type": "display_data"
    }
   ],
   "source": [
    "import seaborn as sns\n",
    "\n",
    "sns.heatmap(y)"
   ]
  },
  {
   "cell_type": "code",
   "execution_count": 179,
   "id": "62c35f9d",
   "metadata": {},
   "outputs": [
    {
     "name": "stdout",
     "output_type": "stream",
     "text": [
      "Model: \"sequential_16\"\n",
      "_________________________________________________________________\n",
      "Layer (type)                 Output Shape              Param #   \n",
      "=================================================================\n",
      "embedding_19 (Embedding)     (None, 6927, 100)         692700    \n",
      "_________________________________________________________________\n",
      "conv1d_20 (Conv1D)           (None, 6923, 16)          8016      \n",
      "_________________________________________________________________\n",
      "batch_normalization_13 (Batc (None, 6923, 16)          64        \n",
      "_________________________________________________________________\n",
      "global_max_pooling1d_18 (Glo (None, 16)                0         \n",
      "_________________________________________________________________\n",
      "dropout_2 (Dropout)          (None, 16)                0         \n",
      "_________________________________________________________________\n",
      "dense_39 (Dense)             (None, 10)                170       \n",
      "_________________________________________________________________\n",
      "dense_40 (Dense)             (None, 5)                 55        \n",
      "_________________________________________________________________\n",
      "dense_41 (Dense)             (None, 1)                 6         \n",
      "=================================================================\n",
      "Total params: 701,011\n",
      "Trainable params: 700,979\n",
      "Non-trainable params: 32\n",
      "_________________________________________________________________\n"
     ]
    }
   ],
   "source": [
    "model.summary()"
   ]
  },
  {
   "cell_type": "code",
   "execution_count": 204,
   "id": "34ff9d5a",
   "metadata": {},
   "outputs": [
    {
     "name": "stdout",
     "output_type": "stream",
     "text": [
      "         0                                                  1  2\n",
      "0     3534  A day after the candidates squared off in a fi...  0\n",
      "1     6265  VIDEO : FBI SOURCES SAY INDICTMENT LIKELY FOR ...  1\n",
      "2     3123  It's debate season, where social media has bro...  0\n",
      "3     3940  Mitch McConnell has decided to wager the Repub...  0\n",
      "4     2856  Donald Trump, the actual Republican candidate ...  0\n",
      "...    ...                                                ... ..\n",
      "1262  4986  Washington (CNN) President Barack Obama announ...  0\n",
      "1263  5789  The revival of middle-class jobs has been one ...  0\n",
      "1264  4338  \"I can guarantee that,\" Obama answered when as...  0\n",
      "1265  5924  Videos 30 Civilians Die In US Airstrike Called...  1\n",
      "1266  6030  The retired neurosurgeon lashed out Friday mor...  0\n",
      "\n",
      "[1267 rows x 3 columns]\n"
     ]
    },
    {
     "data": {
      "text/html": [
       "<div>\n",
       "<style scoped>\n",
       "    .dataframe tbody tr th:only-of-type {\n",
       "        vertical-align: middle;\n",
       "    }\n",
       "\n",
       "    .dataframe tbody tr th {\n",
       "        vertical-align: top;\n",
       "    }\n",
       "\n",
       "    .dataframe thead th {\n",
       "        text-align: right;\n",
       "    }\n",
       "</style>\n",
       "<table border=\"1\" class=\"dataframe\">\n",
       "  <thead>\n",
       "    <tr style=\"text-align: right;\">\n",
       "      <th></th>\n",
       "      <th>0</th>\n",
       "      <th>1</th>\n",
       "      <th>2</th>\n",
       "    </tr>\n",
       "  </thead>\n",
       "  <tbody>\n",
       "    <tr>\n",
       "      <th>0</th>\n",
       "      <td>3534</td>\n",
       "      <td>A day after the candidates squared off in a fi...</td>\n",
       "      <td>0</td>\n",
       "    </tr>\n",
       "    <tr>\n",
       "      <th>1</th>\n",
       "      <td>6265</td>\n",
       "      <td>VIDEO : FBI SOURCES SAY INDICTMENT LIKELY FOR ...</td>\n",
       "      <td>1</td>\n",
       "    </tr>\n",
       "    <tr>\n",
       "      <th>2</th>\n",
       "      <td>3123</td>\n",
       "      <td>It's debate season, where social media has bro...</td>\n",
       "      <td>0</td>\n",
       "    </tr>\n",
       "    <tr>\n",
       "      <th>3</th>\n",
       "      <td>3940</td>\n",
       "      <td>Mitch McConnell has decided to wager the Repub...</td>\n",
       "      <td>0</td>\n",
       "    </tr>\n",
       "    <tr>\n",
       "      <th>4</th>\n",
       "      <td>2856</td>\n",
       "      <td>Donald Trump, the actual Republican candidate ...</td>\n",
       "      <td>0</td>\n",
       "    </tr>\n",
       "    <tr>\n",
       "      <th>5</th>\n",
       "      <td>3031</td>\n",
       "      <td>Not all the claims in the vice presidential de...</td>\n",
       "      <td>0</td>\n",
       "    </tr>\n",
       "    <tr>\n",
       "      <th>6</th>\n",
       "      <td>4854</td>\n",
       "      <td>WASHINGTON—Top administration officials forcef...</td>\n",
       "      <td>0</td>\n",
       "    </tr>\n",
       "    <tr>\n",
       "      <th>7</th>\n",
       "      <td>5861</td>\n",
       "      <td>Top Dems want White House to call off Part B d...</td>\n",
       "      <td>0</td>\n",
       "    </tr>\n",
       "    <tr>\n",
       "      <th>8</th>\n",
       "      <td>307</td>\n",
       "      <td>Corrections and clarifications: An earlier ver...</td>\n",
       "      <td>0</td>\n",
       "    </tr>\n",
       "    <tr>\n",
       "      <th>9</th>\n",
       "      <td>2956</td>\n",
       "      <td>posted by Eddie Censorship by Facebook has bec...</td>\n",
       "      <td>1</td>\n",
       "    </tr>\n",
       "    <tr>\n",
       "      <th>10</th>\n",
       "      <td>4594</td>\n",
       "      <td>Email WSJ The political organization of Virgin...</td>\n",
       "      <td>1</td>\n",
       "    </tr>\n",
       "    <tr>\n",
       "      <th>11</th>\n",
       "      <td>5268</td>\n",
       "      <td>On Sunday during an appearance on \"Face the Na...</td>\n",
       "      <td>0</td>\n",
       "    </tr>\n",
       "    <tr>\n",
       "      <th>12</th>\n",
       "      <td>3929</td>\n",
       "      <td>After Russian President Vladimir Putin complim...</td>\n",
       "      <td>0</td>\n",
       "    </tr>\n",
       "    <tr>\n",
       "      <th>13</th>\n",
       "      <td>4276</td>\n",
       "      <td>Senate supporters of the Keystone XL pipeline,...</td>\n",
       "      <td>0</td>\n",
       "    </tr>\n",
       "    <tr>\n",
       "      <th>14</th>\n",
       "      <td>5655</td>\n",
       "      <td>The Republican presidential race continues to ...</td>\n",
       "      <td>0</td>\n",
       "    </tr>\n",
       "    <tr>\n",
       "      <th>15</th>\n",
       "      <td>5355</td>\n",
       "      <td>Wed, 26 Oct 2016 17:26 UTC © Sandro Perozzi/AP...</td>\n",
       "      <td>1</td>\n",
       "    </tr>\n",
       "    <tr>\n",
       "      <th>16</th>\n",
       "      <td>2268</td>\n",
       "      <td>(CNN) Matt Bevin, the controversial Kentuckian...</td>\n",
       "      <td>0</td>\n",
       "    </tr>\n",
       "    <tr>\n",
       "      <th>17</th>\n",
       "      <td>4525</td>\n",
       "      <td>Washington (CNN) He cut billions in taxes, int...</td>\n",
       "      <td>0</td>\n",
       "    </tr>\n",
       "    <tr>\n",
       "      <th>18</th>\n",
       "      <td>5979</td>\n",
       "      <td>Hillary Clinton won at least four of five prim...</td>\n",
       "      <td>0</td>\n",
       "    </tr>\n",
       "    <tr>\n",
       "      <th>19</th>\n",
       "      <td>1854</td>\n",
       "      <td>Getty - Saul Loeb/AFP The Wildfire is an opini...</td>\n",
       "      <td>1</td>\n",
       "    </tr>\n",
       "  </tbody>\n",
       "</table>\n",
       "</div>"
      ],
      "text/plain": [
       "       0                                                  1  2\n",
       "0   3534  A day after the candidates squared off in a fi...  0\n",
       "1   6265  VIDEO : FBI SOURCES SAY INDICTMENT LIKELY FOR ...  1\n",
       "2   3123  It's debate season, where social media has bro...  0\n",
       "3   3940  Mitch McConnell has decided to wager the Repub...  0\n",
       "4   2856  Donald Trump, the actual Republican candidate ...  0\n",
       "5   3031  Not all the claims in the vice presidential de...  0\n",
       "6   4854  WASHINGTON—Top administration officials forcef...  0\n",
       "7   5861  Top Dems want White House to call off Part B d...  0\n",
       "8    307  Corrections and clarifications: An earlier ver...  0\n",
       "9   2956  posted by Eddie Censorship by Facebook has bec...  1\n",
       "10  4594  Email WSJ The political organization of Virgin...  1\n",
       "11  5268  On Sunday during an appearance on \"Face the Na...  0\n",
       "12  3929  After Russian President Vladimir Putin complim...  0\n",
       "13  4276  Senate supporters of the Keystone XL pipeline,...  0\n",
       "14  5655  The Republican presidential race continues to ...  0\n",
       "15  5355  Wed, 26 Oct 2016 17:26 UTC © Sandro Perozzi/AP...  1\n",
       "16  2268  (CNN) Matt Bevin, the controversial Kentuckian...  0\n",
       "17  4525  Washington (CNN) He cut billions in taxes, int...  0\n",
       "18  5979  Hillary Clinton won at least four of five prim...  0\n",
       "19  1854  Getty - Saul Loeb/AFP The Wildfire is an opini...  1"
      ]
     },
     "execution_count": 204,
     "metadata": {},
     "output_type": "execute_result"
    }
   ],
   "source": [
    "news_data = pd.read_csv(\"FakeNewsOutput.csv\", header=None, skipinitialspace=True ,skiprows=1, encoding='utf-8') \n",
    "# print a summary of the data in news_data\n",
    "#print(news_data[1])\n",
    "print(news_data)\n",
    "news_data[1] = news_data[1].replace('\\n', '', regex=True).str.strip()\n",
    "news_data.head(20)"
   ]
  },
  {
   "cell_type": "code",
   "execution_count": 206,
   "id": "584e984d",
   "metadata": {},
   "outputs": [
    {
     "name": "stdout",
     "output_type": "stream",
     "text": [
      "<class 'pandas.core.series.Series'>\n"
     ]
    }
   ],
   "source": [
    "xfake_test=news_data[1]\n",
    "yfake_test=news_data[2]\n",
    "print(type(xfake_test))"
   ]
  },
  {
   "cell_type": "code",
   "execution_count": 207,
   "id": "1d0d884d",
   "metadata": {},
   "outputs": [
    {
     "name": "stdout",
     "output_type": "stream",
     "text": [
      "<class 'numpy.ndarray'>\n"
     ]
    }
   ],
   "source": [
    "# from sklearn.feature_extraction.text import TfidfVectorizer\n",
    "# #DataFlair - Initialize a TfidfVectorizer\n",
    "# tfidf_vectorizer=TfidfVectorizer(stop_words='english', max_df=0.7)\n",
    "\n",
    "# #DataFlair - Fit and transform train set, transform test set\n",
    "# xfake_test=tfidf_vectorizer.fit_transform(xfake_test.values.astype('U')) \n",
    "# #tfidf_test=tfidf_vectorizer.transform(x_test)\n",
    "\n",
    "\n",
    "\n",
    "xfake_test=tfidf_vectorizer.transform(xfake_test.values.astype('U'))\n",
    "xfake_test=xfake_test.toarray()\n",
    "print(type(xfake_test))"
   ]
  },
  {
   "cell_type": "code",
   "execution_count": 208,
   "id": "7b03f2c9",
   "metadata": {},
   "outputs": [],
   "source": [
    "y_pred = model.predict(xfake_test)\n",
    "y_pred = [round(i[0]) for i in y_pred]"
   ]
  },
  {
   "cell_type": "code",
   "execution_count": 209,
   "id": "4c7d188e",
   "metadata": {},
   "outputs": [
    {
     "name": "stdout",
     "output_type": "stream",
     "text": [
      "40/40 [==============================] - 29s 730ms/step - loss: 1.0989 - accuracy: 0.4964\n"
     ]
    }
   ],
   "source": [
    "yfake_test=np.array(yfake_test)\n",
    "yfake_test = yfake_test.astype('float64')\n",
    "acc , yfake = model.evaluate(xfake_test , yfake_test)"
   ]
  },
  {
   "cell_type": "code",
   "execution_count": 198,
   "id": "44aaa438",
   "metadata": {},
   "outputs": [
    {
     "name": "stdout",
     "output_type": "stream",
     "text": [
      "[[629   0]\n",
      " [638   0]]\n",
      "Accuracy: 49.64%\n"
     ]
    }
   ],
   "source": [
    "from sklearn.metrics import confusion_matrix\n",
    "y = confusion_matrix(yfake_test, y_pred)\n",
    "print(y)\n",
    "score=accuracy_score(yfake_test,y_pred)\n",
    "print(f'Accuracy: {round(score*100,2)}%')"
   ]
  },
  {
   "cell_type": "code",
   "execution_count": null,
   "id": "8339fdda",
   "metadata": {},
   "outputs": [],
   "source": []
  }
 ],
 "metadata": {
  "kernelspec": {
   "display_name": "local-venv",
   "language": "python",
   "name": "local-venv"
  },
  "language_info": {
   "codemirror_mode": {
    "name": "ipython",
    "version": 3
   },
   "file_extension": ".py",
   "mimetype": "text/x-python",
   "name": "python",
   "nbconvert_exporter": "python",
   "pygments_lexer": "ipython3",
   "version": "3.8.10"
  }
 },
 "nbformat": 4,
 "nbformat_minor": 5
}
